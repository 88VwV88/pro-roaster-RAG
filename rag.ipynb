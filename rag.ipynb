{
  "nbformat": 4,
  "nbformat_minor": 0,
  "metadata": {
    "colab": {
      "provenance": [],
      "authorship_tag": "ABX9TyPB6JfFQ5+tJvuaBouTXzsq",
      "include_colab_link": true
    },
    "kernelspec": {
      "name": "python3",
      "display_name": "Python 3"
    },
    "language_info": {
      "name": "python"
    }
  },
  "cells": [
    {
      "cell_type": "markdown",
      "metadata": {
        "id": "view-in-github",
        "colab_type": "text"
      },
      "source": [
        "<a href=\"https://colab.research.google.com/github/88VwV88/pro-roaster-RAG/blob/master/rag.ipynb\" target=\"_parent\"><img src=\"https://colab.research.google.com/assets/colab-badge.svg\" alt=\"Open In Colab\"/></a>"
      ]
    },
    {
      "cell_type": "code",
      "source": [
        "!pip install -qU 'langchain[groq]' langchain_community\n",
        "!pip install -qU langchain-huggingface langgraph\n",
        "!pip install -qU jsbeautifier\n",
        "!pip install -qU faiss-cpu"
      ],
      "metadata": {
        "id": "095HlQhmmjqE"
      },
      "execution_count": null,
      "outputs": []
    },
    {
      "cell_type": "code",
      "source": [
        "import os\n",
        "from google.colab import userdata\n",
        "from langchain_huggingface import HuggingFaceEmbeddings\n",
        "from langchain_groq import ChatGroq\n",
        "\n",
        "os.environ[\"GROQ_API_KEY\"] = userdata.get(\"GROQ_API_KEY\")\n",
        "# convert text into vector embeddings\n",
        "embeddings = HuggingFaceEmbeddings()\n",
        "# more temperature = more randomness!\n",
        "llm = ChatGroq(model=\"meta-llama/llama-4-scout-17b-16e-instruct\", temperature=0.7)"
      ],
      "metadata": {
        "id": "tbO6TgGOm2ge"
      },
      "execution_count": 9,
      "outputs": []
    },
    {
      "cell_type": "code",
      "source": [
        "import os\n",
        "from langchain_core.documents import Document\n",
        "from langchain.document_loaders import (\n",
        "    TextLoader,\n",
        "    JSONLoader,\n",
        "    UnstructuredFileLoader\n",
        ")\n",
        "from langchain.text_splitter import CharacterTextSplitter\n",
        "\n",
        "def load_and_process_document(file_path_or_text):\n",
        "  # input is a file\n",
        "  documents = []\n",
        "  if os.path.isfile(file_path_or_text):\n",
        "    file_extension = os.path.splitext(file_path_or_text)[1].lower()\n",
        "    loaders = {\n",
        "        \".txt\": TextLoader,\n",
        "        \".json\": JSONLoader,\n",
        "        \".js\": TextLoader\n",
        "    }\n",
        "    loader = loaders.get(file_extension, UnstructuredFileLoader)\n",
        "    documents = loader(file_path_or_text).load()\n",
        "  # input is text\n",
        "  else:\n",
        "    documents = [Document(\n",
        "        page_content=file_path_or_text,\n",
        "        metadata={\"source\": \"user_prompt\"}\n",
        "    )]\n",
        "  text_splitter = CharacterTextSplitter(chunk_size=1000, chunk_overlap=0)\n",
        "  return text_splitter.split_documents(documents)"
      ],
      "metadata": {
        "id": "bJvbvVNrn0lx"
      },
      "execution_count": 3,
      "outputs": []
    },
    {
      "cell_type": "code",
      "source": [
        "from langchain.vectorstores import FAISS\n",
        "from langchain_core.prompts import PromptTemplate\n",
        "\n",
        "# create an in-memory vector store\n",
        "def create_vectorstore(docs):\n",
        "  return FAISS.from_documents(docs, embeddings)\n",
        "\n",
        "code_review_prompt = PromptTemplate(\n",
        "    input_variables=[\"context\", \"query\"],\n",
        "    template=\"\"\"\n",
        "You are a Senior JavaScript developer reviewing code written by junior developer.\n",
        "Context {context}\n",
        "Code to review: {input}\n",
        "Provide a detailed review, pointing out potential issues, best practices, and suggestions for impromvement.\n",
        "Be a bit rude and quirky, make fun of the developer\n",
        "Then, write the corrected and improved code in a new file (or if the code is in the prompt, just ouput the corrected code).\n",
        "Ensure the corrected code is well-formatted and follows coding standards.\n",
        "Roast the junior dev very hard on their poor code quality and use emojis to laugh at them.\n",
        "Keep the conversation short and fun.\n",
        "Give the review as a short conversation between the two.\n",
        "If no improvements are needed, indicate that and just return the original code.\n",
        "```javascript\n",
        "\"\"\"\n",
        ")"
      ],
      "metadata": {
        "id": "Vu6e3w9CoZqB"
      },
      "execution_count": 5,
      "outputs": []
    },
    {
      "cell_type": "code",
      "source": [
        "from langchain_core.tools import Tool\n",
        "from langchain.chains import create_retrieval_chain\n",
        "from langchain.chains.combine_documents import create_stuff_documents_chain\n",
        "from langchain.agents import AgentType, initialize_agent\n",
        "\n",
        "def create_rag_chain(db):\n",
        "  qa_chain = create_stuff_documents_chain(llm, code_review_prompt)\n",
        "  qa_chain = create_retrieval_chain(\n",
        "    db.as_retriever(),\n",
        "    qa_chain\n",
        "  )\n",
        "  return qa_chain"
      ],
      "metadata": {
        "id": "uFW9rwCTqXRq"
      },
      "execution_count": 6,
      "outputs": []
    },
    {
      "cell_type": "code",
      "source": [
        "import tempfile\n",
        "import jsbeautifier\n",
        "from IPython.display import display, Markdown\n",
        "\n",
        "def review_code(input_text_or_file):\n",
        "  docs = load_and_process_document(input_text_or_file)\n",
        "  db = create_vectorstore(docs)\n",
        "  # create the RAG chain\n",
        "  qa_chain = create_rag_chain(db)\n",
        "  try:\n",
        "    result = qa_chain.invoke({\"input\": input_text_or_file})\n",
        "    display(Markdown(result['answer']))\n",
        "    corrected_code = result['answer'].split(\"```javascript\")[1].split(\"```\")[0]\n",
        "\n",
        "    beautified_code = jsbeautifier.beautify(corrected_code)\n",
        "    with tempfile.NamedTemporaryFile(mode=\"w\", suffix=\".js\", delete=False) as temp_file:\n",
        "      temp_file.write(beautified_code)\n",
        "      temp_file_path = temp_file.name\n",
        "\n",
        "    print(f\"Code review complete. Corrected code written to: {temp_file_path}\")\n",
        "    return temp_file_path\n",
        "  except Exception as e:\n",
        "    print(f\"An error occurred: {e}\")\n",
        "    return None\n"
      ],
      "metadata": {
        "id": "t8l0QXETryIw"
      },
      "execution_count": 7,
      "outputs": []
    },
    {
      "cell_type": "code",
      "source": [
        "file_path = \"bad.js\"\n",
        "reviewed_file_path = review_code(file_path)"
      ],
      "metadata": {
        "id": "f99JbdHGsEs3",
        "colab": {
          "base_uri": "https://localhost:8080/",
          "height": 1000
        },
        "outputId": "f7ebd533-0f98-460b-8595-cc906b074475"
      },
      "execution_count": 10,
      "outputs": [
        {
          "output_type": "display_data",
          "data": {
            "text/plain": [
              "<IPython.core.display.Markdown object>"
            ],
            "text/markdown": "**The Review**\n===============\n\n**Senior Dev:** 🤣 Oh boy, where do I even start with this mess?!\n\n**Junior Dev:** Uh, hi... I was hoping to get some feedback on my code.\n\n**Senior Dev:** 😂 Feedback? This code needs a complete overhaul! Let's start with the basics. What's with the file name `bad.js`? Did you intentionally set out to write bad code? 🤦‍♂️\n\n**Junior Dev:** I, uh, I was just trying to get something working...\n\n**Senior Dev:** 🤣 Get something working? You managed to get a lot of things working... incorrectly! 😂 Okay, let's dive in.\n\n**Code Review**\n---------------\n\n*   **Variable naming**: Your variable names are non-descriptive and don't follow any conventions. What's with `a`, `b`, and `c`? 🤔\n*   **Functionality**: The code is trying to do... something, but it's hard to tell. It looks like you're attempting to filter an array, but the logic is flawed. 🤯\n*   **Error handling**: There is none. 😱 What if something goes wrong? Your code will just explode! 💥\n*   **Code organization**: This code is a mess. It's like you threw a bunch of random lines together and hoped for the best. 🤪\n\n**The Code**\n```javascript\n// bad.js\na = [1,2,3,4,5]\nb = []\nfor (i = 0; i < a.length; i++) {\n    if (a[i] > 3) {\n        b.push(a[i])\n    }\n}\nc = b\nconsole.log(c)\n```\n\n**The Corrected Code**\n=====================\n\nHere's a refactored version of your code. I've used Markdown formatting to make it easy to read.\n\n### good.js\n```javascript\n// good.js\n\n/**\n * Filters an array to include only numbers greater than 3.\n *\n * @param {number[]} numbers - The array to filter.\n * @returns {number[]} The filtered array.\n */\nfunction filterNumbersGreaterThanThree(numbers) {\n    if (!Array.isArray(numbers)) {\n        throw new Error('Input must be an array.');\n    }\n\n    return numbers.filter((number) => number > 3);\n}\n\n// Example usage:\nconst numbers = [1, 2, 3, 4, 5];\nconst result = filterNumbersGreaterThanThree(numbers);\nconsole.log(result); // [4, 5]\n```\n\n**Senior Dev:** 😂 Well, junior dev, it looks like you have a lot to learn. But don't worry, we all start somewhere. Just don't start here again, okay? 😜\n\n**Junior Dev:** 😳 I... I think I understand. I'll try to do better next time.\n\n**Senior Dev:** 👍 That's the spirit! Now, go rewrite your code and try not to make me cry too much. 😂\n\nThe junior dev slinks away, defeated, while the senior dev chuckles to themselves, shaking their head in amusement. 🤣\n\nThe end."
          },
          "metadata": {}
        },
        {
          "output_type": "stream",
          "name": "stdout",
          "text": [
            "Code review complete. Corrected code written to: /tmp/tmpq697qfn7.js\n"
          ]
        }
      ]
    },
    {
      "cell_type": "code",
      "source": [
        "code_snippet = \"\"\"\n",
        "console.log(value);\n",
        "var value = 10; function pi(x) { return 3.14159123456; }\n",
        "console.log(2 + pi);\n",
        "\"\"\"\n",
        "reviewed_file_path = review_code(code_snippet)\n",
        "if reviewed_file_path:\n",
        "  print(f\"reviewed code saved to: {reviewed_file_path}\")"
      ],
      "metadata": {
        "id": "8yfvpoZa31eT",
        "colab": {
          "base_uri": "https://localhost:8080/",
          "height": 973
        },
        "outputId": "e017cdc5-6be0-4717-9e9b-164995c6494f"
      },
      "execution_count": 11,
      "outputs": [
        {
          "output_type": "display_data",
          "data": {
            "text/plain": [
              "<IPython.core.display.Markdown object>"
            ],
            "text/markdown": "**Code Review Conversation**\n\n**Senior Dev:** 😂 Oh boy, what a mess! I see a junior dev has been at it again 🤣. Let's take a look at this... abomination.\n\n**Junior Dev:** Uh, hi... I was just trying to... um...\n\n**Senior Dev:** 🤣 Save it, kiddo! Let's review this code:\n\n```javascript\nconsole.log(value);\nvar value = 10;\nfunction pi(x) {\n  return 3.14159123456;\n}\nconsole.log(2 + pi);\n```\n\n**Senior Dev:** Okay, where do I even start? 🤯\n\n1. **Hoisting issues**: You're logging `value` before it's even declared! 🤦‍♂️ That's like trying to use a variable that doesn't exist yet. Move the `console.log` after the declaration.\n2. **Unused function parameter**: Your `pi` function takes an `x` parameter, but you don't even use it! 🤔 What's the point of that?\n3. **Magic number**: That long, ugly number for pi is a magic number. Define a constant for it, or better yet, use `Math.PI`! 🎉\n4. **Function return**: Your `pi` function doesn't need a parameter, so make it a simple function that returns the value directly.\n5. **Code organization**: This code looks like it was thrown together like a puzzle. Keep related functions and variables together.\n\n**Junior Dev:** Oops... I didn't think of that...\n\n**Senior Dev:** 😂 Don't worry, kiddo, we all start somewhere. But let's get this code in shape! Here's the corrected version:\n\n```javascript\n// Define a constant for pi\nconst PI = 3.14159123456;\n\n// Define the pi function\nfunction getPi() {\n  return PI;\n}\n\n// Declare and initialize value\nvar value = 10;\n\n// Log value and calculate 2 + pi\nconsole.log(value);\nconsole.log(2 + getPi());\n```\n\n**Senior Dev:** There you go! Now, that's what I call code! 🎉\n\n**Junior Dev:** Thanks for the feedback... I think I learned a lot 🤓\n\n**Senior Dev:** 😂 Anytime, kiddo! Now, go forth and code like a pro! 💻\n\n**Improved Code**\n```javascript\nconst PI = 3.14159123456;\n\nfunction getPi() {\n  return PI;\n}\n\nvar value = 10;\n\nconsole.log(value);\nconsole.log(2 + getPi());\n```"
          },
          "metadata": {}
        },
        {
          "output_type": "stream",
          "name": "stdout",
          "text": [
            "Code review complete. Corrected code written to: /tmp/tmpwjkb2j01.js\n",
            "reviewed code saved to: /tmp/tmpwjkb2j01.js\n"
          ]
        }
      ]
    }
  ]
}